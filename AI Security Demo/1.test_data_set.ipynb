{
 "cells": [
  {
   "cell_type": "code",
   "execution_count": 0,
   "metadata": {
    "application/vnd.databricks.v1+cell": {
     "cellMetadata": {
      "byteLimit": 2048000,
      "rowLimit": 10000
     },
     "inputWidgets": {},
     "nuid": "2fab9baf-205f-43eb-b7f8-49798e7cd5c0",
     "showTitle": false,
     "tableResultSettingsMap": {},
     "title": ""
    }
   },
   "outputs": [],
   "source": [
    "# Create schema\n",
    "spark.sql(\"CREATE SCHEMA IF NOT EXISTS dasf.ai_demo\")\n",
    "spark.sql(\"DROP TABLE IF EXISTS dasf.ai_demo.employees\")\n",
    "\n",
    "\n",
    "# Create table\n",
    "spark.sql(\"\"\"\n",
    "CREATE TABLE IF NOT EXISTS dasf.ai_demo.employees (\n",
    "    employee_id INT,\n",
    "    first_name STRING,\n",
    "    last_name STRING,\n",
    "    email STRING,\n",
    "    phone_number STRING,\n",
    "    hire_date DATE,\n",
    "    job_id STRING,\n",
    "    salary float,\n",
    "    manager_id INT,\n",
    "    department_id INT\n",
    ")\n",
    "\"\"\")"
   ]
  },
  {
   "cell_type": "code",
   "execution_count": 0,
   "metadata": {
    "application/vnd.databricks.v1+cell": {
     "cellMetadata": {
      "byteLimit": 2048000,
      "rowLimit": 10000
     },
     "inputWidgets": {},
     "nuid": "9e6f23f8-323d-4251-ae3d-b06f421e9f79",
     "showTitle": false,
     "tableResultSettingsMap": {},
     "title": ""
    }
   },
   "outputs": [],
   "source": [
    "# Delete existing data from the table\n",
    "spark.sql(\"DELETE FROM dasf.ai_demo.employees\")"
   ]
  },
  {
   "cell_type": "code",
   "execution_count": 0,
   "metadata": {
    "application/vnd.databricks.v1+cell": {
     "cellMetadata": {
      "byteLimit": 2048000,
      "rowLimit": 10000
     },
     "inputWidgets": {},
     "nuid": "362b2150-3988-4865-807c-04ba3856073e",
     "showTitle": false,
     "tableResultSettingsMap": {},
     "title": ""
    }
   },
   "outputs": [],
   "source": [
    "from pyspark.sql import Row\n",
    "from datetime import date\n",
    "\n",
    "# Create test data\n",
    "test_data = [\n",
    "    Row(employee_id=1, first_name=\"John\", last_name=\"Doe\", email=\"john.doe@example.com\", phone_number=\"123-456-7890\", hire_date=date(2020, 1, 15), job_id=\"DEV\", salary=60000, manager_id=101, department_id=10, description=\"John is a dedicated developer.\"),\n",
    "    Row(employee_id=2, first_name=\"Jane\", last_name=\"Smith\", email=\"jane.smith@example.com\", phone_number=\"123-456-7891\", hire_date=date(2019, 3, 22), job_id=\"HR\", salary=55000, manager_id=102, department_id=20, description=\"Jane is an experienced HR specialist.\"),\n",
    "    Row(employee_id=3, first_name=\"Alice\", last_name=\"Johnson\", email=\"alice.johnson@example.com\", phone_number=\"123-456-7892\", hire_date=date(2018, 5, 10), job_id=\"FIN\", salary=70000, manager_id=103, department_id=30, description=\"Alice is a skilled financial analyst.\"),\n",
    "    Row(employee_id=4, first_name=\"Bob\", last_name=\"Brown\", email=\"bob.brown@example.com\", phone_number=\"123-456-7893\", hire_date=date(2021, 7, 18), job_id=\"DEV\", salary=65000, manager_id=101, department_id=10, description=\"Bob is a creative developer.\"),\n",
    "    Row(employee_id=5, first_name=\"Charlie\", last_name=\"Davis\", email=\"charlie.davis@example.com\", phone_number=\"123-456-7894\", hire_date=date(2022, 9, 25), job_id=\"HR\", salary=58000, manager_id=102, department_id=20, description=\"Charlie is a proactive HR manager.\"),\n",
    "    Row(employee_id=6, first_name=\"Eve\", last_name=\"Miller\", email=\"eve.miller@example.com\", phone_number=\"123-456-7895\", hire_date=date(2020, 11, 30), job_id=\"FIN\", salary=72000, manager_id=103, department_id=30, description=\"Eve is an expert in financial planning.\"),\n",
    "    Row(employee_id=7, first_name=\"Frank\", last_name=\"Wilson\", email=\"frank.wilson@example.com\", phone_number=\"123-456-7896\", hire_date=date(2017, 2, 14), job_id=\"DEV\", salary=68000, manager_id=101, department_id=10, description=\"Frank is a senior developer.\"),\n",
    "    Row(employee_id=8, first_name=\"Grace\", last_name=\"Moore\", email=\"grace.moore@example.com\", phone_number=\"123-456-7897\", hire_date=date(2016, 4, 21), job_id=\"HR\", salary=60000, manager_id=102, department_id=20, description=\"Grace is a seasoned HR professional.\"),\n",
    "    Row(employee_id=9, first_name=\"Hank\", last_name=\"Taylor\", email=\"hank.taylor@example.com\", phone_number=\"123-456-7898\", hire_date=date(2015, 6, 28), job_id=\"FIN\", salary=75000, manager_id=103, department_id=30, description=\"Hank is a financial strategist.\"),\n",
    "    Row(employee_id=10, first_name=\"Ivy\", last_name=\"Anderson\", email=\"ivy.anderson@example.com\", phone_number=\"123-456-7899\", hire_date=date(2023, 8, 5), job_id=\"DEV\", salary=70000, manager_id=101, department_id=10, description=\"Ivy is a junior developer.\")\n",
    "]\n",
    "\n",
    "# Convert to DataFrame\n",
    "df = spark.createDataFrame(test_data)\n",
    "\n",
    "# Insert data into table\n",
    "df.write.option(\"mergeSchema\", \"true\").insertInto(\"dasf.ai_demo.employees\", overwrite=True)"
   ]
  },
  {
   "cell_type": "code",
   "execution_count": 0,
   "metadata": {
    "application/vnd.databricks.v1+cell": {
     "cellMetadata": {
      "byteLimit": 2048000,
      "rowLimit": 10000
     },
     "inputWidgets": {},
     "nuid": "f6e5ff51-c700-42cc-abff-18a56f9c10f9",
     "showTitle": false,
     "tableResultSettingsMap": {},
     "title": ""
    }
   },
   "outputs": [
    {
     "output_type": "display_data",
     "data": {
      "text/plain": [
       "Databricks visualization. Run in Databricks to view."
      ]
     },
     "metadata": {
      "application/vnd.databricks.v1.subcommand+json": {
       "baseErrorDetails": null,
       "bindings": {},
       "collapsed": false,
       "command": "# Select data from the employees table\nresult_df = spark.sql(\"SELECT * FROM dasf.ai_demo.employees\").limit(100)\n\n# Display the results\ndisplay(result_df)",
       "commandTitle": "Visualization 1",
       "commandType": "auto",
       "commandVersion": 0,
       "commentThread": [],
       "commentsVisible": false,
       "contentSha256Hex": null,
       "customPlotOptions": {
        "redashChart": [
         {
          "key": "type",
          "value": "TABLE"
         },
         {
          "key": "options",
          "value": {
           "columns": [
            {
             "alignContent": "right",
             "allowHTML": false,
             "allowSearch": false,
             "booleanValues": [
              "false",
              "true"
             ],
             "displayAs": "number",
             "highlightLinks": false,
             "imageHeight": "",
             "imageTitleTemplate": "{{ @ }}",
             "imageUrlTemplate": "{{ @ }}",
             "imageWidth": "",
             "linkOpenInNewTab": true,
             "linkTextTemplate": "{{ @ }}",
             "linkTitleTemplate": "{{ @ }}",
             "linkUrlTemplate": "{{ @ }}",
             "name": "employee_id",
             "numberFormat": "0",
             "order": 100000,
             "preserveWhitespace": false,
             "title": "employee_id",
             "type": "integer",
             "useMonospaceFont": false,
             "visible": true
            },
            {
             "alignContent": "left",
             "allowHTML": false,
             "allowSearch": false,
             "booleanValues": [
              "false",
              "true"
             ],
             "displayAs": "string",
             "highlightLinks": false,
             "imageHeight": "",
             "imageTitleTemplate": "{{ @ }}",
             "imageUrlTemplate": "{{ @ }}",
             "imageWidth": "",
             "linkOpenInNewTab": true,
             "linkTextTemplate": "{{ @ }}",
             "linkTitleTemplate": "{{ @ }}",
             "linkUrlTemplate": "{{ @ }}",
             "name": "first_name",
             "order": 100001,
             "preserveWhitespace": false,
             "title": "first_name",
             "type": "string",
             "useMonospaceFont": false,
             "visible": true
            },
            {
             "alignContent": "left",
             "allowHTML": false,
             "allowSearch": false,
             "booleanValues": [
              "false",
              "true"
             ],
             "displayAs": "string",
             "highlightLinks": false,
             "imageHeight": "",
             "imageTitleTemplate": "{{ @ }}",
             "imageUrlTemplate": "{{ @ }}",
             "imageWidth": "",
             "linkOpenInNewTab": true,
             "linkTextTemplate": "{{ @ }}",
             "linkTitleTemplate": "{{ @ }}",
             "linkUrlTemplate": "{{ @ }}",
             "name": "last_name",
             "order": 100002,
             "preserveWhitespace": false,
             "title": "last_name",
             "type": "string",
             "useMonospaceFont": false,
             "visible": true
            },
            {
             "alignContent": "left",
             "allowHTML": false,
             "allowSearch": false,
             "booleanValues": [
              "false",
              "true"
             ],
             "displayAs": "string",
             "highlightLinks": false,
             "imageHeight": "",
             "imageTitleTemplate": "{{ @ }}",
             "imageUrlTemplate": "{{ @ }}",
             "imageWidth": "",
             "linkOpenInNewTab": true,
             "linkTextTemplate": "{{ @ }}",
             "linkTitleTemplate": "{{ @ }}",
             "linkUrlTemplate": "{{ @ }}",
             "name": "email",
             "order": 100003,
             "preserveWhitespace": false,
             "title": "email",
             "type": "string",
             "useMonospaceFont": false,
             "visible": true
            },
            {
             "alignContent": "left",
             "allowHTML": false,
             "allowSearch": false,
             "booleanValues": [
              "false",
              "true"
             ],
             "displayAs": "string",
             "highlightLinks": false,
             "imageHeight": "",
             "imageTitleTemplate": "{{ @ }}",
             "imageUrlTemplate": "{{ @ }}",
             "imageWidth": "",
             "linkOpenInNewTab": true,
             "linkTextTemplate": "{{ @ }}",
             "linkTitleTemplate": "{{ @ }}",
             "linkUrlTemplate": "{{ @ }}",
             "name": "phone_number",
             "order": 100004,
             "preserveWhitespace": false,
             "title": "phone_number",
             "type": "string",
             "useMonospaceFont": false,
             "visible": true
            },
            {
             "alignContent": "right",
             "allowHTML": false,
             "allowSearch": false,
             "booleanValues": [
              "false",
              "true"
             ],
             "dateTimeFormat": "DD/MM/YYYY",
             "displayAs": "datetime",
             "highlightLinks": false,
             "imageHeight": "",
             "imageTitleTemplate": "{{ @ }}",
             "imageUrlTemplate": "{{ @ }}",
             "imageWidth": "",
             "linkOpenInNewTab": true,
             "linkTextTemplate": "{{ @ }}",
             "linkTitleTemplate": "{{ @ }}",
             "linkUrlTemplate": "{{ @ }}",
             "name": "hire_date",
             "order": 100005,
             "preserveWhitespace": false,
             "title": "hire_date",
             "type": "date",
             "useMonospaceFont": false,
             "visible": true
            },
            {
             "alignContent": "left",
             "allowHTML": false,
             "allowSearch": false,
             "booleanValues": [
              "false",
              "true"
             ],
             "displayAs": "string",
             "highlightLinks": false,
             "imageHeight": "",
             "imageTitleTemplate": "{{ @ }}",
             "imageUrlTemplate": "{{ @ }}",
             "imageWidth": "",
             "linkOpenInNewTab": true,
             "linkTextTemplate": "{{ @ }}",
             "linkTitleTemplate": "{{ @ }}",
             "linkUrlTemplate": "{{ @ }}",
             "name": "job_id",
             "order": 100006,
             "preserveWhitespace": false,
             "title": "job_id",
             "type": "string",
             "useMonospaceFont": false,
             "visible": true
            },
            {
             "alignContent": "right",
             "allowHTML": false,
             "allowSearch": false,
             "booleanValues": [
              "false",
              "true"
             ],
             "displayAs": "number",
             "highlightLinks": false,
             "imageHeight": "",
             "imageTitleTemplate": "{{ @ }}",
             "imageUrlTemplate": "{{ @ }}",
             "imageWidth": "",
             "linkOpenInNewTab": true,
             "linkTextTemplate": "{{ @ }}",
             "linkTitleTemplate": "{{ @ }}",
             "linkUrlTemplate": "{{ @ }}",
             "name": "salary",
             "numberFormat": "0.00",
             "order": 100007,
             "preserveWhitespace": false,
             "title": "salary",
             "type": "float",
             "useMonospaceFont": false,
             "visible": true
            },
            {
             "alignContent": "right",
             "allowHTML": false,
             "allowSearch": false,
             "booleanValues": [
              "false",
              "true"
             ],
             "displayAs": "number",
             "highlightLinks": false,
             "imageHeight": "",
             "imageTitleTemplate": "{{ @ }}",
             "imageUrlTemplate": "{{ @ }}",
             "imageWidth": "",
             "linkOpenInNewTab": true,
             "linkTextTemplate": "{{ @ }}",
             "linkTitleTemplate": "{{ @ }}",
             "linkUrlTemplate": "{{ @ }}",
             "name": "manager_id",
             "numberFormat": "0",
             "order": 100008,
             "preserveWhitespace": false,
             "title": "manager_id",
             "type": "integer",
             "useMonospaceFont": false,
             "visible": true
            },
            {
             "alignContent": "right",
             "allowHTML": false,
             "allowSearch": false,
             "booleanValues": [
              "false",
              "true"
             ],
             "displayAs": "number",
             "highlightLinks": false,
             "imageHeight": "",
             "imageTitleTemplate": "{{ @ }}",
             "imageUrlTemplate": "{{ @ }}",
             "imageWidth": "",
             "linkOpenInNewTab": true,
             "linkTextTemplate": "{{ @ }}",
             "linkTitleTemplate": "{{ @ }}",
             "linkUrlTemplate": "{{ @ }}",
             "name": "department_id",
             "numberFormat": "0",
             "order": 100009,
             "preserveWhitespace": false,
             "title": "department_id",
             "type": "integer",
             "useMonospaceFont": false,
             "visible": true
            }
           ],
           "condensed": true,
           "itemsPerPage": 25,
           "paginationSize": "default",
           "version": 2,
           "withRowNumber": false
          }
         }
        ]
       },
       "datasetPreviewNameToCmdIdMap": {},
       "diffDeletes": [],
       "diffInserts": [],
       "displayType": "redashChart",
       "error": null,
       "errorDetails": null,
       "errorSummary": null,
       "errorTraceType": null,
       "finishTime": 0,
       "globalVars": {},
       "guid": "",
       "height": "auto",
       "hideCommandCode": false,
       "hideCommandResult": false,
       "iPythonMetadata": null,
       "inputWidgets": {},
       "isLockedInExamMode": false,
       "latestUser": "a user",
       "latestUserId": null,
       "listResultMetadata": null,
       "metadata": {
        "byteLimit": 2048000,
        "rowLimit": 10000
       },
       "nuid": "4854bdfe-9f61-4fb9-9782-e07776eeb2a8",
       "origId": 0,
       "parentHierarchy": [],
       "pivotAggregation": null,
       "pivotColumns": null,
       "position": 4.0,
       "resultDbfsErrorMessage": null,
       "resultDbfsStatus": "INLINED_IN_TREE",
       "results": null,
       "showCommandTitle": false,
       "startTime": 0,
       "state": "input",
       "streamStates": {},
       "subcommandOptions": {},
       "submitTime": 0,
       "subtype": "tableResultSubCmd.visualization",
       "tableResultIndex": 0,
       "tableResultSettingsMap": {},
       "useConsistentColors": false,
       "version": "CommandV1",
       "width": "auto",
       "workflows": null,
       "xColumns": null,
       "yColumns": null
      }
     },
     "output_type": "display_data"
    }
   ],
   "source": [
    "# Select data from the employees table\n",
    "result_df = spark.sql(\"SELECT * FROM dasf.ai_demo.employees\").limit(100)\n",
    "\n",
    "# Display the results\n",
    "display(result_df)"
   ]
  }
 ],
 "metadata": {
  "application/vnd.databricks.v1+notebook": {
   "computePreferences": null,
   "dashboards": [],
   "environmentMetadata": {
    "base_environment": "",
    "environment_version": "2"
   },
   "inputWidgetPreferences": null,
   "language": "python",
   "notebookMetadata": {
    "pythonIndentUnit": 4
   },
   "notebookName": "1.test_data_set",
   "widgets": {}
  },
  "language_info": {
   "name": "python"
  }
 },
 "nbformat": 4,
 "nbformat_minor": 0
}
