{
 "cells": [
  {
   "cell_type": "code",
   "execution_count": 0,
   "metadata": {
    "application/vnd.databricks.v1+cell": {
     "cellMetadata": {
      "byteLimit": 2048000,
      "implicitDf": true,
      "rowLimit": 10000
     },
     "inputWidgets": {},
     "nuid": "1d9798c0-6d39-4d4f-943a-00949f40aac0",
     "showTitle": false,
     "tableResultSettingsMap": {},
     "title": ""
    }
   },
   "outputs": [],
   "source": [
    "%sql\n",
    "CREATE OR REPLACE FUNCTION dasf.ai_demo.lookup_employee_info(\n",
    "  employee_name STRING COMMENT 'Name of the employee whose info to look up'\n",
    ")\n",
    "RETURNS STRING\n",
    "COMMENT 'Returns details about a particular employee given the employees name.'\n",
    "RETURN SELECT CONCAT(\n",
    "    'Employee ID: ', employee_id, ', ',\n",
    "    'First Name: ', first_name, ', ',\n",
    "    'Last Name: ', last_name, ', ',\n",
    "    'Email: ', email, ', ',\n",
    "    'Phone Number: ', phone_number, ', ',\n",
    "    'Hire Date: ', hire_date, ', ',\n",
    "    'Job ID: ', job_id, ', ',\n",
    "    'Salary: ', salary, ', ',\n",
    "    'Manager ID: ', manager_id, ', ',\n",
    "    'Department ID: ', department_id,\n",
    "    'Description: ', description\n",
    "    \n",
    "\n",
    "  )\n",
    "  FROM dasf.ai_demo.employees\n",
    "  WHERE CONCAT(first_name, ' ', last_name) = employee_name\n",
    "  LIMIT 1;"
   ]
  }
 ],
 "metadata": {
  "application/vnd.databricks.v1+notebook": {
   "computePreferences": null,
   "dashboards": [],
   "environmentMetadata": {
    "base_environment": "",
    "environment_version": "2"
   },
   "inputWidgetPreferences": null,
   "language": "python",
   "notebookMetadata": {
    "mostRecentlyExecutedCommandWithImplicitDF": {
     "commandId": 2784972062138265,
     "dataframes": [
      "_sqldf"
     ]
    },
    "pythonIndentUnit": 4
   },
   "notebookName": "2.uc_function_tool",
   "widgets": {}
  },
  "language_info": {
   "name": "python"
  }
 },
 "nbformat": 4,
 "nbformat_minor": 0
}
